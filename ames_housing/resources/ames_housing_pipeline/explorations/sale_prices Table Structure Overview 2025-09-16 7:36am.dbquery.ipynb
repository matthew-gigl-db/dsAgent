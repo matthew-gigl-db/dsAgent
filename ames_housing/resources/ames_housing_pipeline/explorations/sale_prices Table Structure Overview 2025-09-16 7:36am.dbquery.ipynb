{
 "cells": [
  {
   "cell_type": "code",
   "execution_count": 0,
   "metadata": {
    "application/vnd.databricks.v1+cell": {
     "cellMetadata": {
      "byteLimit": 10485760,
      "rowLimit": 1000
     },
     "inputWidgets": {},
     "nuid": "00eb33eb-1f0b-4224-ad93-e9a4fbf055b5",
     "showTitle": false,
     "tableResultSettingsMap": {},
     "title": ""
    }
   },
   "outputs": [],
   "source": [
    "use main.dev_matthew_giglia_ames_housing;\n",
    "\n",
    "describe table extended sale_prices as json;\n",
    "\n",
    "show create table sale_prices;"
   ]
  }
 ],
 "metadata": {
  "application/vnd.databricks.v1+notebook": {
   "computePreferences": null,
   "dashboards": [],
   "environmentMetadata": null,
   "inputWidgetPreferences": null,
   "language": "sql",
   "notebookMetadata": {
    "pythonIndentUnit": 4,
    "sqlQueryOptions": {
     "applyAutoLimit": true,
     "catalog": "main",
     "schema": "dev_matthew_giglia_ames_housing"
    }
   },
   "notebookName": "sale_prices Table Structure Overview 2025-09-16 7:36am.dbquery.ipynb",
   "widgets": {}
  },
  "language_info": {
   "name": "sql"
  }
 },
 "nbformat": 4,
 "nbformat_minor": 0
}
