{
 "cells": [
  {
   "cell_type": "code",
   "execution_count": 0,
   "metadata": {
    "application/vnd.databricks.v1+cell": {
     "cellMetadata": {
      "byteLimit": 2048000,
      "rowLimit": 10000
     },
     "inputWidgets": {},
     "nuid": "873839e2-ba78-460b-a7dc-e261a5a096c1",
     "showTitle": false,
     "tableResultSettingsMap": {},
     "title": ""
    }
   },
   "outputs": [],
   "source": [
    "# COMMAND ----------\n",
    "# Cell 1: Define Databricks widgets for ML pipeline configuration\n",
    "\n",
    "\t# Widget for selecting catalog (default: main)\n",
    "\tdbutils.widgets.text(\"catalog_use\", \"main\", \"Catalog\")\n",
    "\t# Widget for selecting schema (default: dev_matthew_giglia_ames_housing)\n",
    "\tdbutils.widgets.text(\"schema_use\", \"dev_matthew_giglia_ames_housing\", \"Schema\")\n",
    "\t# Widget for ML model name (default: dev_matthew_giglia_house_price_prediction)\n",
    "\tdbutils.widgets.text(\"ml_model_name_use\", \"dev_matthew_giglia_house_price_prediction\", \"ML Model Name\")\n",
    "\t# Widget for ML model storage location (default: /Volumes/main/dev_matthew_giglia_ames_housing/ml_artifacts)\n",
    "\tdbutils.widgets.text(\"ml_model_storage_location\", \"/Volumes/main/dev_matthew_giglia_ames_housing/ml_artifacts\", \"ML Model Storage Location\")\n",
    "\t# Widget for ML experiment name (default: /Workspace/experiments/[dev matthew_giglia] house_price_prediction)\n",
    "\tdbutils.widgets.text(\"ml_model_experiments_name_use\", \"/Workspace/experiments/[dev matthew_giglia] house_price_prediction\", \"ML Model Experiments Name\")"
   ]
  },
  {
   "cell_type": "code",
   "execution_count": 0,
   "metadata": {
    "application/vnd.databricks.v1+cell": {
     "cellMetadata": {
      "byteLimit": 2048000,
      "rowLimit": 10000
     },
     "inputWidgets": {},
     "nuid": "b29d6cf4-c4c7-4968-a52d-513c3df9cb50",
     "showTitle": false,
     "tableResultSettingsMap": {},
     "title": ""
    }
   },
   "outputs": [],
   "source": [
    "# COMMAND ----------\n",
    "# Cell 2: Retrieve widget values for ML pipeline configuration\n",
    "\n",
    "\t# Retrieve the current values from the widgets defined above\n",
    "\tcatalog_use = dbutils.widgets.get(\"catalog_use\")\n",
    "\tschema_use = dbutils.widgets.get(\"schema_use\")\n",
    "\tml_model_name_use = dbutils.widgets.get(\"ml_model_name_use\")\n",
    "\tml_model_storage_location = dbutils.widgets.get(\"ml_model_storage_location\")\n",
    "\tml_model_experiments_name_use = dbutils.widgets.get(\"ml_model_experiments_name_use\")"
   ]
  },
  {
   "cell_type": "code",
   "execution_count": 0,
   "metadata": {
    "application/vnd.databricks.v1+cell": {
     "cellMetadata": {},
     "inputWidgets": {},
     "nuid": "bef1cb08-0c99-409f-8189-eacfc3cfbac0",
     "showTitle": false,
     "tableResultSettingsMap": {},
     "title": ""
    }
   },
   "outputs": [],
   "source": [
    "# COMMAND ----------\n",
    "# Cell 3: Display current ML pipeline configuration\n",
    "\n",
    "# Print the current configuration values for verification\n",
    "# This printout displays the current settings for the ML pipeline, including the catalog, schema, model name, storage location, and experiment names.\n",
    "print(f\"\"\"\n",
    "\tcatalog_use: {catalog_use}\n",
    "\tschema_use: {schema_use}\n",
    "\tml_model_name_use: {ml_model_name_use}\n",
    "\tml_model_storage_location: {ml_model_storage_location}\n",
    "\tml_model_experiments_name_use: {ml_model_experiments_name_use}\n",
    "\"\"\")"
   ]
  }
 ],
 "metadata": {
  "application/vnd.databricks.v1+notebook": {
   "computePreferences": {
    "hardware": {
     "accelerator": null,
     "gpuPoolId": null,
     "memory": null
    }
   },
   "dashboards": [],
   "environmentMetadata": {
    "base_environment": "",
    "environment_version": "4"
   },
   "inputWidgetPreferences": null,
   "language": "python",
   "notebookMetadata": {
    "pythonIndentUnit": 4
   },
   "notebookName": "0-Exploratory Analysis",
   "widgets": {
    "catalog_use": {
     "currentValue": "main",
     "nuid": "50aea820-c186-443f-acc9-495aaf6a25ea",
     "typedWidgetInfo": {
      "autoCreated": false,
      "defaultValue": "main",
      "label": "Catalog",
      "name": "catalog_use",
      "options": {
       "widgetDisplayType": "Text",
       "validationRegex": null
      },
      "parameterDataType": "String"
     },
     "widgetInfo": {
      "widgetType": "text",
      "defaultValue": "main",
      "label": "Catalog",
      "name": "catalog_use",
      "options": {
       "widgetType": "text",
       "autoCreated": false,
       "validationRegex": null
      }
     }
    },
    "ml_model_experiments_name_use": {
     "currentValue": "/Workspace/experiments/[dev matthew_giglia] house_price_prediction",
     "nuid": "159d7d25-2d75-46ef-9045-e2cfe3768701",
     "typedWidgetInfo": {
      "autoCreated": false,
      "defaultValue": "/Workspace/experiments/[dev matthew_giglia] house_price_prediction",
      "label": "ML Model Experiments Name",
      "name": "ml_model_experiments_name_use",
      "options": {
       "widgetDisplayType": "Text",
       "validationRegex": null
      },
      "parameterDataType": "String"
     },
     "widgetInfo": {
      "widgetType": "text",
      "defaultValue": "/Workspace/experiments/[dev matthew_giglia] house_price_prediction",
      "label": "ML Model Experiments Name",
      "name": "ml_model_experiments_name_use",
      "options": {
       "widgetType": "text",
       "autoCreated": false,
       "validationRegex": null
      }
     }
    },
    "ml_model_name_use": {
     "currentValue": "dev_matthew_giglia_house_price_prediction",
     "nuid": "6a62ff41-c4cf-4eca-bcf0-f9dfe0831225",
     "typedWidgetInfo": {
      "autoCreated": false,
      "defaultValue": "dev_matthew_giglia_house_price_prediction",
      "label": "ML Model Name",
      "name": "ml_model_name_use",
      "options": {
       "widgetDisplayType": "Text",
       "validationRegex": null
      },
      "parameterDataType": "String"
     },
     "widgetInfo": {
      "widgetType": "text",
      "defaultValue": "dev_matthew_giglia_house_price_prediction",
      "label": "ML Model Name",
      "name": "ml_model_name_use",
      "options": {
       "widgetType": "text",
       "autoCreated": false,
       "validationRegex": null
      }
     }
    },
    "ml_model_storage_location": {
     "currentValue": "/Volumes/main/dev_matthew_giglia_ames_housing/ml_artifacts",
     "nuid": "92020b55-a518-4297-8a58-32d21d1027b5",
     "typedWidgetInfo": {
      "autoCreated": false,
      "defaultValue": "/Volumes/main/dev_matthew_giglia_ames_housing/ml_artifacts",
      "label": "ML Model Storage Location",
      "name": "ml_model_storage_location",
      "options": {
       "widgetDisplayType": "Text",
       "validationRegex": null
      },
      "parameterDataType": "String"
     },
     "widgetInfo": {
      "widgetType": "text",
      "defaultValue": "/Volumes/main/dev_matthew_giglia_ames_housing/ml_artifacts",
      "label": "ML Model Storage Location",
      "name": "ml_model_storage_location",
      "options": {
       "widgetType": "text",
       "autoCreated": false,
       "validationRegex": null
      }
     }
    },
    "schema_use": {
     "currentValue": "dev_matthew_giglia_ames_housing",
     "nuid": "e9298d32-1b24-493f-9035-67ce0fe12510",
     "typedWidgetInfo": {
      "autoCreated": false,
      "defaultValue": "dev_matthew_giglia_ames_housing",
      "label": "Schema",
      "name": "schema_use",
      "options": {
       "widgetDisplayType": "Text",
       "validationRegex": null
      },
      "parameterDataType": "String"
     },
     "widgetInfo": {
      "widgetType": "text",
      "defaultValue": "dev_matthew_giglia_ames_housing",
      "label": "Schema",
      "name": "schema_use",
      "options": {
       "widgetType": "text",
       "autoCreated": false,
       "validationRegex": null
      }
     }
    }
   }
  },
  "language_info": {
   "name": "python"
  }
 },
 "nbformat": 4,
 "nbformat_minor": 0
}
